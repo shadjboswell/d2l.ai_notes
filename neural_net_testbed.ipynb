{
 "cells": [
  {
   "attachments": {},
   "cell_type": "markdown",
   "metadata": {},
   "source": [
    "## Neural Net Curiosities"
   ]
  },
  {
   "cell_type": "code",
   "execution_count": 19,
   "metadata": {},
   "outputs": [
    {
     "name": "stdout",
     "output_type": "stream",
     "text": [
      "e\n",
      "[('e', 'm')]\n",
      "e m\n",
      "[('e', 'm')]\n",
      "m\n",
      "[('m', 'm')]\n",
      "m m\n",
      "[('m', 'm')]\n",
      "m\n",
      "[('m', 'm')]\n",
      "m m\n",
      "[('m', 'm')]\n",
      "a\n",
      "[('a', 'm')]\n",
      "a m\n",
      "[('a', 'm')]\n"
     ]
    }
   ],
   "source": [
    "\n",
    "word = \"emma\"\n",
    "\n",
    "for w in word:\n",
    "    print(w)\n",
    "    print(list(zip(w, word[1:])))\n",
    "    for ch1, ch2 in zip(w, word[1:]):\n",
    "        print(ch1, ch2)\n",
    "        print(list(zip(w, word[1:])))\n",
    "\n"
   ]
  }
 ],
 "metadata": {
  "kernelspec": {
   "display_name": "Python 3",
   "language": "python",
   "name": "python3"
  },
  "language_info": {
   "codemirror_mode": {
    "name": "ipython",
    "version": 3
   },
   "file_extension": ".py",
   "mimetype": "text/x-python",
   "name": "python",
   "nbconvert_exporter": "python",
   "pygments_lexer": "ipython3",
   "version": "3.10.11"
  },
  "orig_nbformat": 4
 },
 "nbformat": 4,
 "nbformat_minor": 2
}
